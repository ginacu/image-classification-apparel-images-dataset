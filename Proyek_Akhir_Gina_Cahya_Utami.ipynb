{
 "cells": [
  {
   "cell_type": "markdown",
   "metadata": {
    "id": "yb0Ka1mfDogL"
   },
   "source": [
    "*   Nama : Gina Cahya Utami\n",
    "*   Username : Gina Cahya\n",
    "*   Email : ginacu.gc@gmail.com\n",
    "*   Dataset : https://www.kaggle.com/trolukovich/apparel-images-dataset?select=black_dress\n"
   ]
  },
  {
   "cell_type": "code",
   "execution_count": 35,
   "metadata": {
    "colab": {
     "base_uri": "https://localhost:8080/"
    },
    "id": "0cXh-jy5BLWh",
    "outputId": "fb962acb-81c7-4116-d983-a699b52a8475"
   },
   "outputs": [
    {
     "name": "stdout",
     "output_type": "stream",
     "text": [
      "Requirement already satisfied: kaggle in /usr/local/lib/python3.7/dist-packages (1.5.12)\n",
      "Requirement already satisfied: certifi in /usr/local/lib/python3.7/dist-packages (from kaggle) (2021.5.30)\n",
      "Requirement already satisfied: tqdm in /usr/local/lib/python3.7/dist-packages (from kaggle) (4.62.2)\n",
      "Requirement already satisfied: urllib3 in /usr/local/lib/python3.7/dist-packages (from kaggle) (1.24.3)\n",
      "Requirement already satisfied: python-slugify in /usr/local/lib/python3.7/dist-packages (from kaggle) (5.0.2)\n",
      "Requirement already satisfied: python-dateutil in /usr/local/lib/python3.7/dist-packages (from kaggle) (2.8.2)\n",
      "Requirement already satisfied: requests in /usr/local/lib/python3.7/dist-packages (from kaggle) (2.23.0)\n",
      "Requirement already satisfied: six>=1.10 in /usr/local/lib/python3.7/dist-packages (from kaggle) (1.15.0)\n",
      "Requirement already satisfied: text-unidecode>=1.3 in /usr/local/lib/python3.7/dist-packages (from python-slugify->kaggle) (1.3)\n",
      "Requirement already satisfied: idna<3,>=2.5 in /usr/local/lib/python3.7/dist-packages (from requests->kaggle) (2.10)\n",
      "Requirement already satisfied: chardet<4,>=3.0.2 in /usr/local/lib/python3.7/dist-packages (from requests->kaggle) (3.0.4)\n"
     ]
    }
   ],
   "source": [
    "! pip install kaggle"
   ]
  },
  {
   "cell_type": "code",
   "execution_count": 2,
   "metadata": {
    "id": "gUR-r4FQ-23o"
   },
   "outputs": [],
   "source": [
    "! mkdir ~/.kaggle"
   ]
  },
  {
   "cell_type": "code",
   "execution_count": 4,
   "metadata": {
    "id": "fh4V_GJtBUx3"
   },
   "outputs": [],
   "source": [
    "! cp kaggle.json ~/.kaggle/"
   ]
  },
  {
   "cell_type": "code",
   "execution_count": 5,
   "metadata": {
    "id": "oto_S3dyBYD1"
   },
   "outputs": [],
   "source": [
    "! chmod 600 ~/.kaggle/kaggle.json"
   ]
  },
  {
   "cell_type": "code",
   "execution_count": 6,
   "metadata": {
    "colab": {
     "base_uri": "https://localhost:8080/"
    },
    "id": "eCCF0mB3CH7R",
    "outputId": "5ac027f6-db71-40d8-966f-23024de9c55c"
   },
   "outputs": [
    {
     "name": "stdout",
     "output_type": "stream",
     "text": [
      "Downloading apparel-images-dataset.zip to /content\n",
      " 96% 239M/248M [00:02<00:00, 93.8MB/s]\n",
      "100% 248M/248M [00:02<00:00, 98.2MB/s]\n"
     ]
    }
   ],
   "source": [
    "! kaggle datasets download trolukovich/apparel-images-dataset"
   ]
  },
  {
   "cell_type": "code",
   "execution_count": 7,
   "metadata": {
    "id": "-fD_EWm0Im27"
   },
   "outputs": [],
   "source": [
    "import tensorflow as tf\n",
    "from sklearn.model_selection import train_test_split\n",
    "from tensorflow.keras.preprocessing.image import ImageDataGenerator\n",
    "import numpy as np\n",
    "from google.colab import files\n",
    "from keras.preprocessing import image\n",
    "import matplotlib.pyplot as plt\n",
    "import matplotlib.image as mpimg\n",
    "from sklearn.model_selection import train_test_split"
   ]
  },
  {
   "cell_type": "code",
   "execution_count": 8,
   "metadata": {
    "colab": {
     "base_uri": "https://localhost:8080/"
    },
    "id": "yvU5o6hqJNl6",
    "outputId": "9767c65f-f5a5-46d3-922f-a237d609ba75"
   },
   "outputs": [
    {
     "name": "stdout",
     "output_type": "stream",
     "text": [
      "2.6.0\n"
     ]
    }
   ],
   "source": [
    "print(tf.__version__)"
   ]
  },
  {
   "cell_type": "code",
   "execution_count": 9,
   "metadata": {
    "id": "hz9u6oVOJWOR"
   },
   "outputs": [],
   "source": [
    "import zipfile,os\n",
    "local_zip = '/content/apparel-images-dataset.zip'\n",
    "zip_ref = zipfile.ZipFile(local_zip, 'r')\n",
    "zip_ref.extractall('/content')\n",
    "zip_ref.close()"
   ]
  },
  {
   "cell_type": "code",
   "execution_count": 10,
   "metadata": {
    "colab": {
     "base_uri": "https://localhost:8080/"
    },
    "id": "6_sZXZwEJ5UE",
    "outputId": "3a4b3864-7e2e-43ad-b743-05c5fe5ff8e3"
   },
   "outputs": [
    {
     "name": "stdout",
     "output_type": "stream",
     "text": [
      "Collecting split_folders\n",
      "  Downloading split_folders-0.4.3-py3-none-any.whl (7.4 kB)\n",
      "Installing collected packages: split-folders\n",
      "Successfully installed split-folders-0.4.3\n"
     ]
    }
   ],
   "source": [
    "pip install split_folders"
   ]
  },
  {
   "cell_type": "code",
   "execution_count": 11,
   "metadata": {
    "colab": {
     "base_uri": "https://localhost:8080/"
    },
    "id": "Hf7vi2-0MZPd",
    "outputId": "c8fd4bd1-0080-406f-d9a7-193d290beb03"
   },
   "outputs": [
    {
     "name": "stderr",
     "output_type": "stream",
     "text": [
      "Copying files: 11394 files [00:03, 2947.84 files/s]\n"
     ]
    }
   ],
   "source": [
    "import splitfolders\n",
    "base_dir = '/content'\n",
    "splitfolders.ratio(base_dir, output = '/content/apparel-images-dataset', seed = 1314, ratio = (.8, .2))\n",
    "\n",
    "train_dir = os.path.join('/content/apparel-images-dataset', 'train')\n",
    "val_dir = os.path.join('/content/apparel-images-dataset', 'val')"
   ]
  },
  {
   "cell_type": "code",
   "execution_count": 17,
   "metadata": {
    "id": "xUwYHbGRNbNu"
   },
   "outputs": [],
   "source": [
    "black_dress_dir = os.path.join(base_dir, 'black_dress')\n",
    "black_pants_dir = os.path.join(base_dir, 'black_pants')\n",
    "black_shirt_dir = os.path.join(base_dir, 'black_shirt')\n",
    "black_shoes_dir = os.path.join(base_dir, 'black_shoes')\n",
    "black_shorts_dir = os.path.join(base_dir, 'black_shorts')\n",
    "blue_dress_dir = os.path.join(base_dir, 'blue_dress')\n",
    "blue_pants_dir = os.path.join(base_dir, 'blue_pants')\n",
    "blue_shirt_dir = os.path.join(base_dir, 'blue_shirt')\n",
    "blue_shoes_dir = os.path.join(base_dir, 'blue_shoes')\n",
    "blue_shorts_dir = os.path.join(base_dir, 'blue_shorts')\n",
    "brown_pants_dir = os.path.join(base_dir, 'brown_pants')\n",
    "brown_shoes_dir = os.path.join(base_dir, 'brown_shoes')\n",
    "brown_shorts_dir = os.path.join(base_dir, 'brown_shorts')\n",
    "green_pants_dir = os.path.join(base_dir, 'green_pants')\n",
    "green_shirt_dir = os.path.join(base_dir, 'green_shirt')\n",
    "green_shoes_dir = os.path.join(base_dir, 'green_shoes')\n",
    "green_shorts_dir = os.path.join(base_dir, 'green_shorts')\n",
    "red_dress_dir = os.path.join(base_dir, 'red_dress')\n",
    "red_pants_dir = os.path.join(base_dir, 'red_pants')\n",
    "red_shoes_dir = os.path.join(base_dir, 'red_shoes')\n",
    "white_dress_dir = os.path.join(base_dir, 'white_dress')\n",
    "white_pants_dir = os.path.join(base_dir, 'white_pants')\n",
    "white_shoes_dir = os.path.join(base_dir, 'white_shoes')\n",
    "white_shorts_dir = os.path.join(base_dir, 'white_shorts')"
   ]
  },
  {
   "cell_type": "code",
   "execution_count": 18,
   "metadata": {
    "id": "_6UDGi1DNyEF"
   },
   "outputs": [],
   "source": [
    "train_black_dress_dir, val_black_dress_dir = train_test_split(os.listdir(black_dress_dir), test_size=0.2)\n",
    "train_black_pants_dir, val_black_pants_dir = train_test_split(os.listdir(black_pants_dir), test_size=0.2)\n",
    "train_black_shirt_dir, val_black_shirt_dir = train_test_split(os.listdir(black_shirt_dir), test_size=0.2)\n",
    "train_black_shoes_dir, val_black_shoes_dir = train_test_split(os.listdir(black_shoes_dir), test_size=0.2)\n",
    "train_black_shorts_dir, val_black_shorts_dir = train_test_split(os.listdir(black_shorts_dir), test_size=0.2)\n",
    "train_blue_dress_dir, val_blue_dress_dir = train_test_split(os.listdir(blue_dress_dir), test_size=0.2)\n",
    "train_blue_pants_dir, val_blue_pants_dir = train_test_split(os.listdir(blue_pants_dir), test_size=0.2)\n",
    "train_blue_shirt_dir, val_blue_shirt_dir = train_test_split(os.listdir(blue_shirt_dir), test_size=0.2)\n",
    "train_blue_shoes_dir, val_blue_shoes_dir = train_test_split(os.listdir(blue_shoes_dir), test_size=0.2)\n",
    "train_blue_shorts_dir, val_blue_shorts_dir = train_test_split(os.listdir(blue_shorts_dir), test_size=0.2)\n",
    "train_brown_pants_dir, val_brown_pants_dir = train_test_split(os.listdir(brown_pants_dir), test_size=0.2)\n",
    "train_brown_shoes_dir, val_brown_shoes_dir = train_test_split(os.listdir(brown_shoes_dir), test_size=0.2)\n",
    "train_brown_shorts_dir, val_brown_shorts_dir = train_test_split(os.listdir(brown_shorts_dir), test_size=0.2)\n",
    "train_green_pants_dir, val_green_pants_dir = train_test_split(os.listdir(green_pants_dir), test_size=0.2)\n",
    "train_green_shirt_dir, val_green_shirt_dir = train_test_split(os.listdir(green_shirt_dir), test_size=0.2)\n",
    "train_green_shoes_dir, val_green_shoes_dir = train_test_split(os.listdir(green_shoes_dir), test_size=0.2)\n",
    "train_green_shorts_dir, val_green_shorts_dir = train_test_split(os.listdir(green_shorts_dir), test_size=0.2)\n",
    "train_red_dress_dir, val_red_dress_dir = train_test_split(os.listdir(red_dress_dir), test_size=0.2)\n",
    "train_red_pants_dir, val_red_pants_dir = train_test_split(os.listdir(red_pants_dir), test_size=0.2)\n",
    "train_red_shoes_dir, val_red_shoes_dir = train_test_split(os.listdir(red_shoes_dir), test_size=0.2)\n",
    "train_white_dress_dir, val_white_dress_dir = train_test_split(os.listdir(white_dress_dir), test_size=0.2)\n",
    "train_white_pants_dir, val_white_pants_dir = train_test_split(os.listdir(white_pants_dir), test_size=0.2)\n",
    "train_white_shoes_dir, val_white_shoes_dir = train_test_split(os.listdir(white_shoes_dir), test_size=0.2)\n",
    "train_white_shorts_dir, val_white_shorts_dir = train_test_split(os.listdir(white_shorts_dir), test_size=0.2)\n"
   ]
  },
  {
   "cell_type": "code",
   "execution_count": 20,
   "metadata": {
    "id": "ErMPNKpwPJQG"
   },
   "outputs": [],
   "source": [
    "train_datagen = ImageDataGenerator(\n",
    "                    rescale=1./255,\n",
    "                    validation_split=0.2,\n",
    "                    rotation_range=20,\n",
    "                    horizontal_flip=True,\n",
    "                    shear_range = 0.2,\n",
    "                    fill_mode = 'nearest')\n",
    " \n",
    "test_datagen = ImageDataGenerator(\n",
    "                    rescale=1./255,\n",
    "                    validation_split=0.2,\n",
    "                    rotation_range=20,\n",
    "                    horizontal_flip=True,\n",
    "                    shear_range = 0.2,\n",
    "                    fill_mode = 'nearest')"
   ]
  },
  {
   "cell_type": "code",
   "execution_count": 21,
   "metadata": {
    "colab": {
     "base_uri": "https://localhost:8080/"
    },
    "id": "s_tKVe_2QQav",
    "outputId": "955e3b14-3dc5-40ba-9d98-9d090a78855a"
   },
   "outputs": [
    {
     "name": "stdout",
     "output_type": "stream",
     "text": [
      "Found 9101 images belonging to 26 classes.\n",
      "Found 2284 images belonging to 26 classes.\n"
     ]
    }
   ],
   "source": [
    "train_generator = train_datagen.flow_from_directory(\n",
    "        train_dir,\n",
    "        target_size=(150, 150),\n",
    "        batch_size=32,\n",
    "        class_mode='categorical')\n",
    " \n",
    "validation_generator = test_datagen.flow_from_directory(\n",
    "        val_dir,\n",
    "        target_size=(150, 150),\n",
    "        batch_size=32,\n",
    "        class_mode='categorical')"
   ]
  },
  {
   "cell_type": "code",
   "execution_count": 23,
   "metadata": {
    "id": "RBVhosMRSUl0"
   },
   "outputs": [],
   "source": [
    "model = tf.keras.models.Sequential([\n",
    "    tf.keras.layers.Conv2D(32, (3,3), activation='relu', input_shape=(150, 150, 3)),\n",
    "    tf.keras.layers.MaxPooling2D(2, 2),\n",
    "    tf.keras.layers.Conv2D(64, (3,3), activation='relu'),\n",
    "    tf.keras.layers.MaxPooling2D(2,2),\n",
    "    tf.keras.layers.Conv2D(128, (3,3), activation='relu'),\n",
    "    tf.keras.layers.MaxPooling2D(2,2),\n",
    "    tf.keras.layers.Conv2D(128, (3,3), activation='relu'),\n",
    "    tf.keras.layers.MaxPooling2D(2,2),\n",
    "    tf.keras.layers.Flatten(),\n",
    "    tf.keras.layers.Dense(512, activation='relu'),\n",
    "    tf.keras.layers.Dense(26, activation='softmax')\n",
    "])"
   ]
  },
  {
   "cell_type": "code",
   "execution_count": 24,
   "metadata": {
    "id": "0SKjuaLZk1P3"
   },
   "outputs": [],
   "source": [
    "from tensorflow.keras import optimizers\n",
    "model.compile(loss='categorical_crossentropy',\n",
    "              optimizer=tf.optimizers.Adam(),\n",
    "              metrics=['accuracy'])"
   ]
  },
  {
   "cell_type": "markdown",
   "metadata": {
    "id": "pcBTlrUEbcRG"
   },
   "source": [
    "**Membuat Class Callback**"
   ]
  },
  {
   "cell_type": "code",
   "execution_count": 25,
   "metadata": {
    "id": "fv1Mdv-Bbdvs"
   },
   "outputs": [],
   "source": [
    "from tensorflow.keras.callbacks import Callback\n",
    "class myCallback(Callback):\n",
    "  def on_epoch_end(self, epoch, logs={}):\n",
    "    if(logs.get('accuracy')>0.92 and logs.get('val_accuracy')>0.92):\n",
    "      print(\"\\nAkurasi telah mencapai >92%! dan val akurasi telah mencapai >92%!\")\n",
    "      self.model.stop_training = True\n",
    "callbacks = myCallback()"
   ]
  },
  {
   "cell_type": "code",
   "execution_count": 36,
   "metadata": {
    "colab": {
     "base_uri": "https://localhost:8080/"
    },
    "id": "R2xKws7Cla6M",
    "outputId": "68b63c57-a60a-4088-849e-1ba4dc11b3a9"
   },
   "outputs": [
    {
     "name": "stdout",
     "output_type": "stream",
     "text": [
      "Epoch 1/65\n",
      "25/25 [==============================] - 46s 2s/step - loss: 0.3066 - accuracy: 0.8963 - val_loss: 0.4155 - val_accuracy: 0.8562\n",
      "Epoch 2/65\n",
      "25/25 [==============================] - 45s 2s/step - loss: 0.2966 - accuracy: 0.8963 - val_loss: 0.4393 - val_accuracy: 0.8750\n",
      "Epoch 3/65\n",
      "25/25 [==============================] - 45s 2s/step - loss: 0.2396 - accuracy: 0.9187 - val_loss: 0.4638 - val_accuracy: 0.8938\n",
      "Epoch 4/65\n",
      "25/25 [==============================] - 45s 2s/step - loss: 0.2997 - accuracy: 0.8975 - val_loss: 0.4132 - val_accuracy: 0.9250\n",
      "Epoch 5/65\n",
      "25/25 [==============================] - 45s 2s/step - loss: 0.3076 - accuracy: 0.9075 - val_loss: 0.6385 - val_accuracy: 0.8438\n",
      "Epoch 6/65\n",
      "25/25 [==============================] - 45s 2s/step - loss: 0.3166 - accuracy: 0.8975 - val_loss: 0.4910 - val_accuracy: 0.8562\n",
      "Epoch 7/65\n",
      "25/25 [==============================] - 45s 2s/step - loss: 0.2831 - accuracy: 0.9050 - val_loss: 0.7233 - val_accuracy: 0.8250\n",
      "Epoch 8/65\n",
      "25/25 [==============================] - 44s 2s/step - loss: 0.2570 - accuracy: 0.9112 - val_loss: 0.3140 - val_accuracy: 0.8750\n",
      "Epoch 9/65\n",
      "25/25 [==============================] - 44s 2s/step - loss: 0.2353 - accuracy: 0.9137 - val_loss: 0.4874 - val_accuracy: 0.8750\n",
      "Epoch 10/65\n",
      "25/25 [==============================] - 44s 2s/step - loss: 0.2650 - accuracy: 0.9175 - val_loss: 0.5897 - val_accuracy: 0.8500\n",
      "Epoch 11/65\n",
      "25/25 [==============================] - 44s 2s/step - loss: 0.2337 - accuracy: 0.9262 - val_loss: 0.2476 - val_accuracy: 0.9125\n",
      "Epoch 12/65\n",
      "25/25 [==============================] - 44s 2s/step - loss: 0.2442 - accuracy: 0.9250 - val_loss: 0.2901 - val_accuracy: 0.9125\n",
      "Epoch 13/65\n",
      "25/25 [==============================] - 44s 2s/step - loss: 0.2354 - accuracy: 0.9175 - val_loss: 0.4097 - val_accuracy: 0.9125\n",
      "Epoch 14/65\n",
      "25/25 [==============================] - 44s 2s/step - loss: 0.3002 - accuracy: 0.9050 - val_loss: 0.4847 - val_accuracy: 0.8687\n",
      "Epoch 15/65\n",
      "25/25 [==============================] - 44s 2s/step - loss: 0.2526 - accuracy: 0.9262 - val_loss: 0.4243 - val_accuracy: 0.8562\n",
      "Epoch 16/65\n",
      "25/25 [==============================] - 44s 2s/step - loss: 0.2308 - accuracy: 0.9250 - val_loss: 0.2653 - val_accuracy: 0.9000\n",
      "Epoch 17/65\n",
      "25/25 [==============================] - 44s 2s/step - loss: 0.2437 - accuracy: 0.9200 - val_loss: 0.4477 - val_accuracy: 0.8750\n",
      "Epoch 18/65\n",
      "25/25 [==============================] - 44s 2s/step - loss: 0.2047 - accuracy: 0.9350 - val_loss: 0.3667 - val_accuracy: 0.8938\n",
      "Epoch 19/65\n",
      "25/25 [==============================] - 45s 2s/step - loss: 0.2207 - accuracy: 0.9300 - val_loss: 0.4806 - val_accuracy: 0.8813\n",
      "Epoch 20/65\n",
      "25/25 [==============================] - 45s 2s/step - loss: 0.2725 - accuracy: 0.9200 - val_loss: 0.3698 - val_accuracy: 0.9062\n",
      "Epoch 21/65\n",
      "25/25 [==============================] - 44s 2s/step - loss: 0.2262 - accuracy: 0.9400 - val_loss: 0.4568 - val_accuracy: 0.8625\n",
      "Epoch 22/65\n",
      "25/25 [==============================] - 44s 2s/step - loss: 0.2300 - accuracy: 0.9337 - val_loss: 0.4622 - val_accuracy: 0.8562\n",
      "Epoch 23/65\n",
      "25/25 [==============================] - 44s 2s/step - loss: 0.2547 - accuracy: 0.9125 - val_loss: 0.5846 - val_accuracy: 0.8438\n",
      "Epoch 24/65\n",
      "25/25 [==============================] - 44s 2s/step - loss: 0.2518 - accuracy: 0.9200 - val_loss: 0.4974 - val_accuracy: 0.8750\n",
      "Epoch 25/65\n",
      "25/25 [==============================] - 43s 2s/step - loss: 0.2542 - accuracy: 0.9125 - val_loss: 0.4159 - val_accuracy: 0.9062\n",
      "Epoch 26/65\n",
      "25/25 [==============================] - 43s 2s/step - loss: 0.1965 - accuracy: 0.9413 - val_loss: 0.3775 - val_accuracy: 0.9000\n",
      "Epoch 27/65\n",
      "25/25 [==============================] - 44s 2s/step - loss: 0.2094 - accuracy: 0.9388 - val_loss: 0.2801 - val_accuracy: 0.9250\n",
      "\n",
      "Akurasi telah mencapai >92%! dan val akurasi telah mencapai >92%!\n"
     ]
    }
   ],
   "source": [
    "history = model.fit(\n",
    "    train_generator,\n",
    "    steps_per_epoch=25,  \n",
    "    epochs=65,\n",
    "    callbacks=[callbacks],\n",
    "    validation_data=validation_generator, \n",
    "    validation_steps=5,\n",
    ")"
   ]
  },
  {
   "cell_type": "code",
   "execution_count": 37,
   "metadata": {
    "colab": {
     "base_uri": "https://localhost:8080/"
    },
    "id": "V8hofs4Plve4",
    "outputId": "29910433-6b65-4f19-e271-148e2dae7f26"
   },
   "outputs": [
    {
     "name": "stdout",
     "output_type": "stream",
     "text": [
      "72/72 [==============================] - 45s 613ms/step - loss: 0.4730 - accuracy: 0.8809\n"
     ]
    },
    {
     "data": {
      "text/plain": [
       "[0.4730250835418701, 0.8809106945991516]"
      ]
     },
     "execution_count": 37,
     "metadata": {},
     "output_type": "execute_result"
    }
   ],
   "source": [
    "model.evaluate(validation_generator)"
   ]
  },
  {
   "cell_type": "code",
   "execution_count": 38,
   "metadata": {
    "colab": {
     "base_uri": "https://localhost:8080/",
     "height": 294
    },
    "id": "fZGUAjHy_hxa",
    "outputId": "830bf343-6fe3-4be8-ba8d-00523979a6ba"
   },
   "outputs": [
    {
     "data": {
      "image/png": "[encoded data removed]",
      "text/plain": [
       "<Figure size 432x288 with 1 Axes>"
      ]
     },
     "metadata": {
      "needs_background": "light"
     },
     "output_type": "display_data"
    }
   ],
   "source": [
    "import matplotlib.pyplot as plt\n",
    "plt.plot(history.history['loss'])\n",
    "plt.title('Model loss')\n",
    "plt.ylabel('Loss')\n",
    "plt.xlabel('Epoch')\n",
    "plt.legend(['Train'], loc='upper right')\n",
    "plt.show()"
   ]
  },
  {
   "cell_type": "code",
   "execution_count": 40,
   "metadata": {
    "colab": {
     "base_uri": "https://localhost:8080/",
     "height": 294
    },
    "id": "wTDlnnw8_mKA",
    "outputId": "1c8fe74b-f60c-45e5-9a40-9573d013d1cb"
   },
   "outputs": [
    {
     "data": {
      "image/png": "[encoded data removed]",
      "text/plain": [
       "<Figure size 432x288 with 1 Axes>"
      ]
     },
     "metadata": {
      "needs_background": "light"
     },
     "output_type": "display_data"
    }
   ],
   "source": [
    "plt.plot(history.history['accuracy'])\n",
    "plt.title('Model Accuracy')\n",
    "plt.ylabel('accuracy')\n",
    "plt.xlabel('Epoch')\n",
    "plt.legend(['Train'], loc='lower right')\n",
    "plt.show()"
   ]
  },
  {
   "cell_type": "code",
   "execution_count": 41,
   "metadata": {
    "colab": {
     "base_uri": "https://localhost:8080/"
    },
    "id": "PpW3K_96vLoO",
    "outputId": "ebf6ece9-dec9-4511-b7f3-5ca921d77d54"
   },
   "outputs": [
    {
     "name": "stdout",
     "output_type": "stream",
     "text": [
      "INFO:tensorflow:Assets written to: /tmp/tmpz2a8wf6d/assets\n"
     ]
    },
    {
     "name": "stderr",
     "output_type": "stream",
     "text": [
      "INFO:tensorflow:Assets written to: /tmp/tmpz2a8wf6d/assets\n"
     ]
    }
   ],
   "source": [
    "# Konversi model.\n",
    "converter = tf.lite.TFLiteConverter.from_keras_model(model)\n",
    "tflite_model = converter.convert()"
   ]
  },
  {
   "cell_type": "code",
   "execution_count": 42,
   "metadata": {
    "id": "LfrJU96wvPrF"
   },
   "outputs": [],
   "source": [
    "with tf.io.gfile.GFile('model.tflite', 'wb') as f:\n",
    "  f.write(tflite_model)"
   ]
  }
 ],
 "metadata": {
  "colab": {
   "collapsed_sections": [],
   "name": "Proyek Akhir1 V2.ipynb",
   "provenance": []
  },
  "kernelspec": {
   "display_name": "Python 3",
   "language": "python",
   "name": "python3"
  },
  "language_info": {
   "codemirror_mode": {
    "name": "ipython",
    "version": 3
   },
   "file_extension": ".py",
   "mimetype": "text/x-python",
   "name": "python",
   "nbconvert_exporter": "python",
   "pygments_lexer": "ipython3",
   "version": "3.8.5"
  }
 },
 "nbformat": 4,
 "nbformat_minor": 1
}
